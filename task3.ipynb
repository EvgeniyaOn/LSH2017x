{
 "cells": [
  {
   "cell_type": "markdown",
   "metadata": {},
   "source": [
    "# Вступительное задание ЛШ 2017 DataScience 2017"
   ]
  },
  {
   "cell_type": "markdown",
   "metadata": {},
   "source": [
    "## Задание 3"
   ]
  },
  {
   "cell_type": "markdown",
   "metadata": {},
   "source": [
    "$$P=1-C_{\\frac{n}{2}}*p^{\\frac{n-2}{2}}*q^{\\frac{n+2}{2}},$$\n",
    "\n",
    "где $n$ - количество сделанных шагов;\n",
    "\n",
    "\n",
    "$P$ - вероятность того, что после $n$ шагов пьяницa останется жив;\n",
    "\n",
    "\n",
    "$C_{\\frac{n}{2}}=\\frac{2\\frac{n}{2}!}{\\frac{n}{2}!(\\frac{n}{2}+1)!}$ - число Каталана;\n",
    "    \n",
    "    \n",
    "$p=\\frac{2}{3}$ - вероятность шагнуть назад;\n",
    "    \n",
    "    \n",
    "$q=\\frac{1}{3}$ - вероятность шагнуть к обрыву."
   ]
  },
  {
   "cell_type": "code",
   "execution_count": 32,
   "metadata": {},
   "outputs": [
    {
     "name": "stdout",
     "output_type": "stream",
     "text": [
      "Введите количество сделанных шагов: 0\n",
      "Вероятность того, что после 0 шагов пьяницa останется жив, равна 1.00\n"
     ]
    },
    {
     "data": {
      "image/png": "[encoded data removed]",
      "text/plain": [
       "<matplotlib.figure.Figure at 0x7fc661208f50>"
      ]
     },
     "metadata": {},
     "output_type": "display_data"
    }
   ],
   "source": [
    "import math\n",
    "import pylab\n",
    "from matplotlib import mlab\n",
    "\n",
    "n = int(input('Введите количество сделанных шагов: '))\n",
    "\n",
    "def probability(n):\n",
    "    if n % 2 != 0 or n == 0:\n",
    "        prob = 1\n",
    "    else:\n",
    "        prob_1 = (math.factorial(2*(0.5*n)))/((math.factorial(0.5*n))*(math.factorial(0.5*n+1)))\n",
    "        prob_2 = ((2.0/3)**((n-2)/2))*((1.0/3)**((n+2)/2))\n",
    "        prob = 1 - prob_1*prob_2\n",
    "    return prob\n",
    "\n",
    "p = probability(n)\n",
    "print('Вероятность того, что после %0.0f шагов пьяницa останется жив, равна %0.2f' % (n, p))\n",
    "\n",
    "# Построим график\n",
    "\n",
    "nmin = 0\n",
    "nmax = 20\n",
    "dn = 1\n",
    "nlist = mlab.frange (nmin, nmax, dn)\n",
    "plist = [probability(n) for n in nlist]\n",
    "pylab.plot (nlist, plist)\n",
    "pylab.show()"
   ]
  }
 ],
 "metadata": {
  "kernelspec": {
   "display_name": "Python 3",
   "language": "python",
   "name": "python3"
  },
  "language_info": {
   "codemirror_mode": {
    "name": "ipython",
    "version": 2
   },
   "file_extension": ".py",
   "mimetype": "text/x-python",
   "name": "python",
   "nbconvert_exporter": "python",
   "pygments_lexer": "ipython2",
   "version": "2.7.12"
  }
 },
 "nbformat": 4,
 "nbformat_minor": 2
}
